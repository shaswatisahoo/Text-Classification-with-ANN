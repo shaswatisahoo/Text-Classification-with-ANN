{
  "nbformat": 4,
  "nbformat_minor": 0,
  "metadata": {
    "colab": {
      "provenance": []
    },
    "kernelspec": {
      "name": "python3",
      "display_name": "Python 3"
    },
    "language_info": {
      "name": "python"
    }
  },
  "cells": [
    {
      "cell_type": "code",
      "execution_count": null,
      "metadata": {
        "id": "NUXtNc-9Vybg"
      },
      "outputs": [],
      "source": [
        "import numpy as np\n",
        "import pandas as pd\n",
        "import matplotlib.pyplot as plt\n",
        "\n",
        "import warnings\n",
        "warnings.filterwarnings('ignore')"
      ]
    },
    {
      "cell_type": "code",
      "source": [
        "df= pd.read_table('moviereviews.tsv')\n",
        "df.head()"
      ],
      "metadata": {
        "colab": {
          "base_uri": "https://localhost:8080/",
          "height": 206
        },
        "id": "AJOtP51vWH9Z",
        "outputId": "b958a9bf-5365-4576-c024-3b174c9a5cfd"
      },
      "execution_count": null,
      "outputs": [
        {
          "output_type": "execute_result",
          "data": {
            "text/plain": [
              "  label                                             review\n",
              "0   neg  how do films like mouse hunt get into theatres...\n",
              "1   neg  some talented actresses are blessed with a dem...\n",
              "2   pos  this has been an extraordinary year for austra...\n",
              "3   pos  according to hollywood movies made in last few...\n",
              "4   neg  my first press screening of 1998 and already i..."
            ],
            "text/html": [
              "\n",
              "  <div id=\"df-f7332929-9b0f-4598-b95f-e6dad2d1802d\">\n",
              "    <div class=\"colab-df-container\">\n",
              "      <div>\n",
              "<style scoped>\n",
              "    .dataframe tbody tr th:only-of-type {\n",
              "        vertical-align: middle;\n",
              "    }\n",
              "\n",
              "    .dataframe tbody tr th {\n",
              "        vertical-align: top;\n",
              "    }\n",
              "\n",
              "    .dataframe thead th {\n",
              "        text-align: right;\n",
              "    }\n",
              "</style>\n",
              "<table border=\"1\" class=\"dataframe\">\n",
              "  <thead>\n",
              "    <tr style=\"text-align: right;\">\n",
              "      <th></th>\n",
              "      <th>label</th>\n",
              "      <th>review</th>\n",
              "    </tr>\n",
              "  </thead>\n",
              "  <tbody>\n",
              "    <tr>\n",
              "      <th>0</th>\n",
              "      <td>neg</td>\n",
              "      <td>how do films like mouse hunt get into theatres...</td>\n",
              "    </tr>\n",
              "    <tr>\n",
              "      <th>1</th>\n",
              "      <td>neg</td>\n",
              "      <td>some talented actresses are blessed with a dem...</td>\n",
              "    </tr>\n",
              "    <tr>\n",
              "      <th>2</th>\n",
              "      <td>pos</td>\n",
              "      <td>this has been an extraordinary year for austra...</td>\n",
              "    </tr>\n",
              "    <tr>\n",
              "      <th>3</th>\n",
              "      <td>pos</td>\n",
              "      <td>according to hollywood movies made in last few...</td>\n",
              "    </tr>\n",
              "    <tr>\n",
              "      <th>4</th>\n",
              "      <td>neg</td>\n",
              "      <td>my first press screening of 1998 and already i...</td>\n",
              "    </tr>\n",
              "  </tbody>\n",
              "</table>\n",
              "</div>\n",
              "      <button class=\"colab-df-convert\" onclick=\"convertToInteractive('df-f7332929-9b0f-4598-b95f-e6dad2d1802d')\"\n",
              "              title=\"Convert this dataframe to an interactive table.\"\n",
              "              style=\"display:none;\">\n",
              "        \n",
              "  <svg xmlns=\"http://www.w3.org/2000/svg\" height=\"24px\"viewBox=\"0 0 24 24\"\n",
              "       width=\"24px\">\n",
              "    <path d=\"M0 0h24v24H0V0z\" fill=\"none\"/>\n",
              "    <path d=\"M18.56 5.44l.94 2.06.94-2.06 2.06-.94-2.06-.94-.94-2.06-.94 2.06-2.06.94zm-11 1L8.5 8.5l.94-2.06 2.06-.94-2.06-.94L8.5 2.5l-.94 2.06-2.06.94zm10 10l.94 2.06.94-2.06 2.06-.94-2.06-.94-.94-2.06-.94 2.06-2.06.94z\"/><path d=\"M17.41 7.96l-1.37-1.37c-.4-.4-.92-.59-1.43-.59-.52 0-1.04.2-1.43.59L10.3 9.45l-7.72 7.72c-.78.78-.78 2.05 0 2.83L4 21.41c.39.39.9.59 1.41.59.51 0 1.02-.2 1.41-.59l7.78-7.78 2.81-2.81c.8-.78.8-2.07 0-2.86zM5.41 20L4 18.59l7.72-7.72 1.47 1.35L5.41 20z\"/>\n",
              "  </svg>\n",
              "      </button>\n",
              "      \n",
              "  <style>\n",
              "    .colab-df-container {\n",
              "      display:flex;\n",
              "      flex-wrap:wrap;\n",
              "      gap: 12px;\n",
              "    }\n",
              "\n",
              "    .colab-df-convert {\n",
              "      background-color: #E8F0FE;\n",
              "      border: none;\n",
              "      border-radius: 50%;\n",
              "      cursor: pointer;\n",
              "      display: none;\n",
              "      fill: #1967D2;\n",
              "      height: 32px;\n",
              "      padding: 0 0 0 0;\n",
              "      width: 32px;\n",
              "    }\n",
              "\n",
              "    .colab-df-convert:hover {\n",
              "      background-color: #E2EBFA;\n",
              "      box-shadow: 0px 1px 2px rgba(60, 64, 67, 0.3), 0px 1px 3px 1px rgba(60, 64, 67, 0.15);\n",
              "      fill: #174EA6;\n",
              "    }\n",
              "\n",
              "    [theme=dark] .colab-df-convert {\n",
              "      background-color: #3B4455;\n",
              "      fill: #D2E3FC;\n",
              "    }\n",
              "\n",
              "    [theme=dark] .colab-df-convert:hover {\n",
              "      background-color: #434B5C;\n",
              "      box-shadow: 0px 1px 3px 1px rgba(0, 0, 0, 0.15);\n",
              "      filter: drop-shadow(0px 1px 2px rgba(0, 0, 0, 0.3));\n",
              "      fill: #FFFFFF;\n",
              "    }\n",
              "  </style>\n",
              "\n",
              "      <script>\n",
              "        const buttonEl =\n",
              "          document.querySelector('#df-f7332929-9b0f-4598-b95f-e6dad2d1802d button.colab-df-convert');\n",
              "        buttonEl.style.display =\n",
              "          google.colab.kernel.accessAllowed ? 'block' : 'none';\n",
              "\n",
              "        async function convertToInteractive(key) {\n",
              "          const element = document.querySelector('#df-f7332929-9b0f-4598-b95f-e6dad2d1802d');\n",
              "          const dataTable =\n",
              "            await google.colab.kernel.invokeFunction('convertToInteractive',\n",
              "                                                     [key], {});\n",
              "          if (!dataTable) return;\n",
              "\n",
              "          const docLinkHtml = 'Like what you see? Visit the ' +\n",
              "            '<a target=\"_blank\" href=https://colab.research.google.com/notebooks/data_table.ipynb>data table notebook</a>'\n",
              "            + ' to learn more about interactive tables.';\n",
              "          element.innerHTML = '';\n",
              "          dataTable['output_type'] = 'display_data';\n",
              "          await google.colab.output.renderOutput(dataTable, element);\n",
              "          const docLink = document.createElement('div');\n",
              "          docLink.innerHTML = docLinkHtml;\n",
              "          element.appendChild(docLink);\n",
              "        }\n",
              "      </script>\n",
              "    </div>\n",
              "  </div>\n",
              "  "
            ]
          },
          "metadata": {},
          "execution_count": 6
        }
      ]
    },
    {
      "cell_type": "code",
      "source": [
        "df.info()"
      ],
      "metadata": {
        "colab": {
          "base_uri": "https://localhost:8080/"
        },
        "id": "qz-ipXpxWnsm",
        "outputId": "5d2a0aa1-ebd0-4b20-a2d2-08f3a932f96a"
      },
      "execution_count": null,
      "outputs": [
        {
          "output_type": "stream",
          "name": "stdout",
          "text": [
            "<class 'pandas.core.frame.DataFrame'>\n",
            "RangeIndex: 2000 entries, 0 to 1999\n",
            "Data columns (total 2 columns):\n",
            " #   Column  Non-Null Count  Dtype \n",
            "---  ------  --------------  ----- \n",
            " 0   label   2000 non-null   object\n",
            " 1   review  1965 non-null   object\n",
            "dtypes: object(2)\n",
            "memory usage: 31.4+ KB\n"
          ]
        }
      ]
    },
    {
      "cell_type": "code",
      "source": [
        "df.isnull().sum()"
      ],
      "metadata": {
        "colab": {
          "base_uri": "https://localhost:8080/"
        },
        "id": "463MU_eXXRlR",
        "outputId": "de69be21-a6da-43a5-b903-f71265121710"
      },
      "execution_count": null,
      "outputs": [
        {
          "output_type": "execute_result",
          "data": {
            "text/plain": [
              "label      0\n",
              "review    35\n",
              "dtype: int64"
            ]
          },
          "metadata": {},
          "execution_count": 9
        }
      ]
    },
    {
      "cell_type": "code",
      "source": [
        "df.dropna(inplace=True)"
      ],
      "metadata": {
        "id": "15MZ0jPpai7g"
      },
      "execution_count": null,
      "outputs": []
    },
    {
      "cell_type": "code",
      "source": [
        "df.isnull().sum()"
      ],
      "metadata": {
        "colab": {
          "base_uri": "https://localhost:8080/"
        },
        "id": "QIlOwtlkbJAf",
        "outputId": "547a191e-475f-400e-d89d-81fa40fc4c2d"
      },
      "execution_count": null,
      "outputs": [
        {
          "output_type": "execute_result",
          "data": {
            "text/plain": [
              "label     0\n",
              "review    0\n",
              "dtype: int64"
            ]
          },
          "metadata": {},
          "execution_count": 11
        }
      ]
    },
    {
      "cell_type": "code",
      "source": [
        "blanks =[]\n",
        "\n",
        "for i, lb, rv in df.itertuples():\n",
        "  if(type(rv)==str):\n",
        "    if(rv.isspace()):\n",
        "      blanks.append(i)\n",
        "\n",
        "print(blanks)"
      ],
      "metadata": {
        "colab": {
          "base_uri": "https://localhost:8080/"
        },
        "id": "UciaFJQKaB2N",
        "outputId": "b58a2c05-34b3-4c3e-fdb1-4622d5a96fd5"
      },
      "execution_count": null,
      "outputs": [
        {
          "output_type": "stream",
          "name": "stdout",
          "text": [
            "[57, 71, 147, 151, 283, 307, 313, 323, 343, 351, 427, 501, 633, 675, 815, 851, 977, 1079, 1299, 1455, 1493, 1525, 1531, 1763, 1851, 1905, 1993]\n"
          ]
        }
      ]
    },
    {
      "cell_type": "code",
      "source": [
        "df.drop(blanks, inplace=True)"
      ],
      "metadata": {
        "id": "_n62E690buR1"
      },
      "execution_count": null,
      "outputs": []
    },
    {
      "cell_type": "code",
      "source": [
        "X= df['review']\n",
        "y= df['label']"
      ],
      "metadata": {
        "id": "H2C0SbIIhLlu"
      },
      "execution_count": null,
      "outputs": []
    },
    {
      "cell_type": "code",
      "source": [
        "from sklearn.model_selection import train_test_split\n",
        "Xtrain, Xtest, ytrain, ytest= train_test_split(X,y,test_size=0.3, random_state=1)"
      ],
      "metadata": {
        "id": "Gc7BOrHZhOdV"
      },
      "execution_count": null,
      "outputs": []
    },
    {
      "cell_type": "code",
      "source": [
        "from sklearn.pipeline import Pipeline\n",
        "from sklearn.feature_extraction.text import CountVectorizer\n",
        "from sklearn.ensemble import RandomForestClassifier\n",
        "from sklearn.svm import LinearSVC"
      ],
      "metadata": {
        "id": "gfq0wxsEhSFr"
      },
      "execution_count": null,
      "outputs": []
    },
    {
      "cell_type": "code",
      "source": [
        "pipe= Pipeline(\n",
        "    [\n",
        "     ('CountVectorizer',CountVectorizer()),\n",
        "     ('emsemble',RandomForestClassifier())\n",
        "\n",
        "    ]\n",
        ")"
      ],
      "metadata": {
        "id": "H4CX0E28hnwU"
      },
      "execution_count": null,
      "outputs": []
    },
    {
      "cell_type": "code",
      "source": [
        "pipe.fit(Xtrain,ytrain)\n",
        "ypred= pipe.predict(Xtest)"
      ],
      "metadata": {
        "id": "FnktOGmeiHlx"
      },
      "execution_count": null,
      "outputs": []
    },
    {
      "cell_type": "code",
      "source": [
        "from sklearn.metrics import classification_report\n",
        "print(classification_report(ytest,ypred))"
      ],
      "metadata": {
        "colab": {
          "base_uri": "https://localhost:8080/"
        },
        "id": "TS-T-2EliQSD",
        "outputId": "7067405a-6ccb-4bce-b5cd-b79dc1a118d4"
      },
      "execution_count": null,
      "outputs": [
        {
          "output_type": "stream",
          "name": "stdout",
          "text": [
            "              precision    recall  f1-score   support\n",
            "\n",
            "         neg       0.75      0.85      0.80       293\n",
            "         pos       0.82      0.72      0.77       289\n",
            "\n",
            "    accuracy                           0.78       582\n",
            "   macro avg       0.79      0.78      0.78       582\n",
            "weighted avg       0.79      0.78      0.78       582\n",
            "\n"
          ]
        }
      ]
    },
    {
      "cell_type": "code",
      "source": [
        "pipe= Pipeline(\n",
        "    [\n",
        "     ('CountVectorizer',CountVectorizer()),\n",
        "     ('svm', LinearSVC()),\n",
        "\n",
        "    ]\n",
        ")"
      ],
      "metadata": {
        "id": "8GfJafIzvT0Q"
      },
      "execution_count": null,
      "outputs": []
    },
    {
      "cell_type": "code",
      "source": [
        "pipe.fit(Xtrain,ytrain)\n",
        "ypred= pipe.predict(Xtest)\n",
        "print(classification_report(ytest,ypred))"
      ],
      "metadata": {
        "colab": {
          "base_uri": "https://localhost:8080/"
        },
        "id": "oDuuK02Fvyjc",
        "outputId": "1cedbeb1-5acd-46d2-fd22-d08ddf0d87c8"
      },
      "execution_count": null,
      "outputs": [
        {
          "output_type": "stream",
          "name": "stdout",
          "text": [
            "              precision    recall  f1-score   support\n",
            "\n",
            "         neg       0.79      0.85      0.82       293\n",
            "         pos       0.84      0.78      0.80       289\n",
            "\n",
            "    accuracy                           0.81       582\n",
            "   macro avg       0.81      0.81      0.81       582\n",
            "weighted avg       0.81      0.81      0.81       582\n",
            "\n"
          ]
        }
      ]
    },
    {
      "cell_type": "markdown",
      "source": [
        "# Text Classification with ANN"
      ],
      "metadata": {
        "id": "gxwYIkoBKmfS"
      }
    },
    {
      "cell_type": "code",
      "source": [
        "X"
      ],
      "metadata": {
        "colab": {
          "base_uri": "https://localhost:8080/"
        },
        "id": "s0cL8Ahewx8y",
        "outputId": "1609cae3-6bb4-4194-ff49-127e745a601e"
      },
      "execution_count": null,
      "outputs": [
        {
          "output_type": "execute_result",
          "data": {
            "text/plain": [
              "0       how do films like mouse hunt get into theatres...\n",
              "1       some talented actresses are blessed with a dem...\n",
              "2       this has been an extraordinary year for austra...\n",
              "3       according to hollywood movies made in last few...\n",
              "4       my first press screening of 1998 and already i...\n",
              "                              ...                        \n",
              "1995    i like movies with albert brooks , and i reall...\n",
              "1996    it might surprise some to know that joel and e...\n",
              "1997    the verdict : spine-chilling drama from horror...\n",
              "1998    i want to correct what i wrote in a former ret...\n",
              "1999    a couple of months ago , when i first download...\n",
              "Name: review, Length: 1938, dtype: object"
            ]
          },
          "metadata": {},
          "execution_count": 22
        }
      ]
    },
    {
      "cell_type": "code",
      "source": [
        "y"
      ],
      "metadata": {
        "colab": {
          "base_uri": "https://localhost:8080/"
        },
        "id": "LlkgRx2cwyzA",
        "outputId": "7b6360c3-64a2-493f-a490-d42ef6fbc80c"
      },
      "execution_count": null,
      "outputs": [
        {
          "output_type": "execute_result",
          "data": {
            "text/plain": [
              "0       neg\n",
              "1       neg\n",
              "2       pos\n",
              "3       pos\n",
              "4       neg\n",
              "       ... \n",
              "1995    pos\n",
              "1996    pos\n",
              "1997    pos\n",
              "1998    pos\n",
              "1999    pos\n",
              "Name: label, Length: 1938, dtype: object"
            ]
          },
          "metadata": {},
          "execution_count": 23
        }
      ]
    },
    {
      "cell_type": "code",
      "source": [
        "y.replace({'neg':0, 'pos':1}, inplace=True)"
      ],
      "metadata": {
        "id": "iz-OtLHpwzjx"
      },
      "execution_count": null,
      "outputs": []
    },
    {
      "cell_type": "code",
      "source": [
        "y"
      ],
      "metadata": {
        "colab": {
          "base_uri": "https://localhost:8080/"
        },
        "id": "bZg-RfjD84J2",
        "outputId": "90e249f0-3493-49dc-ef9a-a302d23160b4"
      },
      "execution_count": null,
      "outputs": [
        {
          "output_type": "execute_result",
          "data": {
            "text/plain": [
              "0       0\n",
              "1       0\n",
              "2       1\n",
              "3       1\n",
              "4       0\n",
              "       ..\n",
              "1995    1\n",
              "1996    1\n",
              "1997    1\n",
              "1998    1\n",
              "1999    1\n",
              "Name: label, Length: 1938, dtype: int64"
            ]
          },
          "metadata": {},
          "execution_count": 25
        }
      ]
    },
    {
      "cell_type": "code",
      "source": [
        "Xtrain, Xtest, ytrain, ytest= train_test_split(X,y, test_size=0.3, random_state=1)"
      ],
      "metadata": {
        "id": "qpKabzy69HNP"
      },
      "execution_count": null,
      "outputs": []
    },
    {
      "cell_type": "code",
      "source": [
        "cv= CountVectorizer()\n",
        "Xtrain= cv.fit_transform(Xtrain).toarray()\n",
        "Xtest= cv.transform(Xtest).toarray()"
      ],
      "metadata": {
        "id": "9S0eMpx49Z7x"
      },
      "execution_count": null,
      "outputs": []
    },
    {
      "cell_type": "code",
      "source": [
        "Xtrain"
      ],
      "metadata": {
        "colab": {
          "base_uri": "https://localhost:8080/"
        },
        "id": "VzeDK6vG9y0A",
        "outputId": "e440bad0-077a-4c1d-bb93-6993b0275cd0"
      },
      "execution_count": null,
      "outputs": [
        {
          "output_type": "execute_result",
          "data": {
            "text/plain": [
              "array([[0, 0, 0, ..., 0, 0, 0],\n",
              "       [0, 0, 0, ..., 0, 0, 0],\n",
              "       [0, 0, 0, ..., 0, 0, 0],\n",
              "       ...,\n",
              "       [0, 0, 0, ..., 0, 0, 0],\n",
              "       [0, 0, 0, ..., 0, 0, 0],\n",
              "       [0, 0, 0, ..., 0, 0, 0]])"
            ]
          },
          "metadata": {},
          "execution_count": 28
        }
      ]
    },
    {
      "cell_type": "code",
      "source": [
        "import tensorflow as tf\n",
        "from tensorflow.keras.models import Sequential\n",
        "from tensorflow.keras.layers import Dense"
      ],
      "metadata": {
        "id": "QsvRnDDwD6Iq"
      },
      "execution_count": null,
      "outputs": []
    },
    {
      "cell_type": "code",
      "source": [
        "#Step-1: Initialise the ANN model\n",
        "ann= Sequential()\n",
        "\n",
        "#Step-2: Add the hidden layers\n",
        "ann.add(Dense(units=10, activation='relu'))\n",
        "ann.add(Dense(units=6, activation='relu'))\n",
        "ann.add(Dense(units=3, activation='relu'))\n",
        "ann.add(Dense(units=1, activation='sigmoid'))\n",
        "\n",
        "#Step-3: Establish the connection between the layers\n",
        "ann.compile(optimizer='adam', loss='binary_crossentropy', metrics=['accuracy'])\n",
        "\n",
        "#Step-4: Train the model\n",
        "ann.fit(Xtrain,ytrain, batch_size=50, epochs=30)\n",
        "\n",
        "#Step-5: Make prediction\n",
        "ypred= ann.predict(Xtest)"
      ],
      "metadata": {
        "colab": {
          "base_uri": "https://localhost:8080/"
        },
        "id": "edsItvVQ-Myj",
        "outputId": "940b7628-7679-445e-b762-3f4c8f1345e8"
      },
      "execution_count": null,
      "outputs": [
        {
          "output_type": "stream",
          "name": "stdout",
          "text": [
            "Epoch 1/30\n",
            "28/28 [==============================] - 3s 39ms/step - loss: 0.6780 - accuracy: 0.5435\n",
            "Epoch 2/30\n",
            "28/28 [==============================] - 1s 35ms/step - loss: 0.5904 - accuracy: 0.7485\n",
            "Epoch 3/30\n",
            "28/28 [==============================] - 1s 41ms/step - loss: 0.4977 - accuracy: 0.8481\n",
            "Epoch 4/30\n",
            "28/28 [==============================] - 1s 36ms/step - loss: 0.4197 - accuracy: 0.9285\n",
            "Epoch 5/30\n",
            "28/28 [==============================] - 1s 29ms/step - loss: 0.3563 - accuracy: 0.9779\n",
            "Epoch 6/30\n",
            "28/28 [==============================] - 1s 30ms/step - loss: 0.3110 - accuracy: 0.9956\n",
            "Epoch 7/30\n",
            "28/28 [==============================] - 1s 33ms/step - loss: 0.2772 - accuracy: 1.0000\n",
            "Epoch 8/30\n",
            "28/28 [==============================] - 1s 33ms/step - loss: 0.1097 - accuracy: 0.9993\n",
            "Epoch 9/30\n",
            "28/28 [==============================] - 1s 34ms/step - loss: 0.0302 - accuracy: 0.9993\n",
            "Epoch 10/30\n",
            "28/28 [==============================] - 1s 35ms/step - loss: 0.0143 - accuracy: 1.0000\n",
            "Epoch 11/30\n",
            "28/28 [==============================] - 1s 36ms/step - loss: 0.0094 - accuracy: 1.0000\n",
            "Epoch 12/30\n",
            "28/28 [==============================] - 1s 30ms/step - loss: 0.0069 - accuracy: 1.0000\n",
            "Epoch 13/30\n",
            "28/28 [==============================] - 1s 21ms/step - loss: 0.0053 - accuracy: 1.0000\n",
            "Epoch 14/30\n",
            "28/28 [==============================] - 1s 19ms/step - loss: 0.0042 - accuracy: 1.0000\n",
            "Epoch 15/30\n",
            "28/28 [==============================] - 1s 19ms/step - loss: 0.0032 - accuracy: 1.0000\n",
            "Epoch 16/30\n",
            "28/28 [==============================] - 1s 19ms/step - loss: 0.0024 - accuracy: 1.0000\n",
            "Epoch 17/30\n",
            "28/28 [==============================] - 1s 20ms/step - loss: 0.0018 - accuracy: 1.0000\n",
            "Epoch 18/30\n",
            "28/28 [==============================] - 1s 20ms/step - loss: 0.0014 - accuracy: 1.0000\n",
            "Epoch 19/30\n",
            "28/28 [==============================] - 1s 20ms/step - loss: 0.0012 - accuracy: 1.0000\n",
            "Epoch 20/30\n",
            "28/28 [==============================] - 1s 19ms/step - loss: 9.7783e-04 - accuracy: 1.0000\n",
            "Epoch 21/30\n",
            "28/28 [==============================] - 1s 20ms/step - loss: 8.2912e-04 - accuracy: 1.0000\n",
            "Epoch 22/30\n",
            "28/28 [==============================] - 1s 20ms/step - loss: 7.1342e-04 - accuracy: 1.0000\n",
            "Epoch 23/30\n",
            "28/28 [==============================] - 1s 20ms/step - loss: 6.3021e-04 - accuracy: 1.0000\n",
            "Epoch 24/30\n",
            "28/28 [==============================] - 1s 20ms/step - loss: 5.5741e-04 - accuracy: 1.0000\n",
            "Epoch 25/30\n",
            "28/28 [==============================] - 1s 20ms/step - loss: 4.8183e-04 - accuracy: 1.0000\n",
            "Epoch 26/30\n",
            "28/28 [==============================] - 1s 20ms/step - loss: 4.3244e-04 - accuracy: 1.0000\n",
            "Epoch 27/30\n",
            "28/28 [==============================] - 1s 19ms/step - loss: 4.0200e-04 - accuracy: 1.0000\n",
            "Epoch 28/30\n",
            "28/28 [==============================] - 1s 20ms/step - loss: 3.8100e-04 - accuracy: 1.0000\n",
            "Epoch 29/30\n",
            "28/28 [==============================] - 1s 19ms/step - loss: 3.6512e-04 - accuracy: 1.0000\n",
            "Epoch 30/30\n",
            "28/28 [==============================] - 1s 20ms/step - loss: 3.5259e-04 - accuracy: 1.0000\n"
          ]
        }
      ]
    },
    {
      "cell_type": "code",
      "source": [
        "ypred"
      ],
      "metadata": {
        "colab": {
          "base_uri": "https://localhost:8080/"
        },
        "id": "hio82bfUS25t",
        "outputId": "86435e8d-87d8-469c-821f-a02906f4f15b"
      },
      "execution_count": null,
      "outputs": [
        {
          "output_type": "execute_result",
          "data": {
            "text/plain": [
              "array([[9.99999642e-01],\n",
              "       [9.73869085e-01],\n",
              "       [9.99984622e-01],\n",
              "       [5.90824544e-01],\n",
              "       [9.78267252e-01],\n",
              "       [9.99702454e-01],\n",
              "       [2.80898809e-03],\n",
              "       [9.44695950e-01],\n",
              "       [8.58518160e-06],\n",
              "       [3.02401125e-01],\n",
              "       [1.26046747e-01],\n",
              "       [8.69921923e-01],\n",
              "       [1.56661183e-01],\n",
              "       [9.94813859e-01],\n",
              "       [2.28146613e-02],\n",
              "       [4.30432767e-01],\n",
              "       [9.76204991e-01],\n",
              "       [9.90090251e-01],\n",
              "       [3.64784002e-02],\n",
              "       [1.00216866e-02],\n",
              "       [8.73568296e-01],\n",
              "       [7.75873661e-04],\n",
              "       [9.99996424e-01],\n",
              "       [1.00000000e+00],\n",
              "       [7.81243943e-06],\n",
              "       [9.99996662e-01],\n",
              "       [9.99997139e-01],\n",
              "       [9.98207808e-01],\n",
              "       [9.52552855e-02],\n",
              "       [9.15167451e-01],\n",
              "       [9.99289751e-01],\n",
              "       [1.89505816e-02],\n",
              "       [1.00986199e-05],\n",
              "       [1.27083063e-02],\n",
              "       [4.32646275e-03],\n",
              "       [6.80269897e-02],\n",
              "       [9.84663546e-01],\n",
              "       [1.00000000e+00],\n",
              "       [2.03698320e-07],\n",
              "       [2.80103017e-15],\n",
              "       [1.10195130e-01],\n",
              "       [3.80893052e-02],\n",
              "       [9.99382615e-01],\n",
              "       [9.83248770e-01],\n",
              "       [9.86168861e-01],\n",
              "       [1.35576129e-02],\n",
              "       [2.09967494e-02],\n",
              "       [9.51017797e-01],\n",
              "       [8.20715427e-01],\n",
              "       [2.28890777e-03],\n",
              "       [5.97183287e-01],\n",
              "       [7.88211823e-04],\n",
              "       [6.20391965e-03],\n",
              "       [4.41721575e-08],\n",
              "       [1.98718756e-01],\n",
              "       [9.99987006e-01],\n",
              "       [7.22513974e-01],\n",
              "       [1.82580948e-03],\n",
              "       [1.65405993e-06],\n",
              "       [9.94391024e-01],\n",
              "       [1.45167500e-09],\n",
              "       [8.12103987e-01],\n",
              "       [3.71444225e-03],\n",
              "       [6.40872419e-02],\n",
              "       [9.54188108e-02],\n",
              "       [6.73257673e-05],\n",
              "       [4.42833652e-07],\n",
              "       [9.99965131e-01],\n",
              "       [4.00328338e-02],\n",
              "       [9.99461293e-01],\n",
              "       [9.69275415e-01],\n",
              "       [1.00000000e+00],\n",
              "       [5.40569782e-01],\n",
              "       [9.99999821e-01],\n",
              "       [9.55518603e-01],\n",
              "       [5.51499761e-05],\n",
              "       [5.44866323e-02],\n",
              "       [1.11738364e-05],\n",
              "       [8.09417963e-02],\n",
              "       [2.03015447e-01],\n",
              "       [9.84769106e-01],\n",
              "       [9.09812093e-01],\n",
              "       [6.78440630e-02],\n",
              "       [9.99073505e-01],\n",
              "       [6.99463487e-01],\n",
              "       [9.85751867e-01],\n",
              "       [5.65706432e-01],\n",
              "       [3.18764389e-01],\n",
              "       [2.93867588e-02],\n",
              "       [2.36480832e-02],\n",
              "       [6.83811009e-02],\n",
              "       [4.91461158e-03],\n",
              "       [9.97372448e-01],\n",
              "       [5.27831316e-01],\n",
              "       [1.79350376e-03],\n",
              "       [3.46751608e-06],\n",
              "       [5.36859035e-04],\n",
              "       [7.82560408e-01],\n",
              "       [1.08569860e-03],\n",
              "       [6.56035542e-03],\n",
              "       [2.54602730e-02],\n",
              "       [4.42940354e-01],\n",
              "       [5.49059808e-02],\n",
              "       [5.59984982e-01],\n",
              "       [9.98759151e-01],\n",
              "       [7.33282864e-02],\n",
              "       [9.97563362e-01],\n",
              "       [3.37985128e-01],\n",
              "       [9.02955946e-07],\n",
              "       [9.99089479e-01],\n",
              "       [9.87333238e-01],\n",
              "       [6.20652139e-02],\n",
              "       [8.83767843e-01],\n",
              "       [6.56077802e-01],\n",
              "       [9.99970555e-01],\n",
              "       [1.55404210e-03],\n",
              "       [7.08207954e-05],\n",
              "       [1.39364600e-03],\n",
              "       [9.91303802e-01],\n",
              "       [9.99999762e-01],\n",
              "       [7.30772674e-01],\n",
              "       [8.68927598e-01],\n",
              "       [2.46509910e-03],\n",
              "       [1.45660917e-09],\n",
              "       [1.70460343e-03],\n",
              "       [4.62730020e-01],\n",
              "       [9.64273214e-02],\n",
              "       [9.84271765e-01],\n",
              "       [5.41593730e-01],\n",
              "       [1.45517299e-06],\n",
              "       [3.30609032e-06],\n",
              "       [3.34638447e-01],\n",
              "       [6.34464622e-03],\n",
              "       [3.76432687e-01],\n",
              "       [9.69306946e-01],\n",
              "       [6.27751410e-01],\n",
              "       [1.00000000e+00],\n",
              "       [1.46955252e-04],\n",
              "       [7.06399083e-02],\n",
              "       [3.87728214e-04],\n",
              "       [2.63214409e-02],\n",
              "       [1.46180701e-05],\n",
              "       [9.99995530e-01],\n",
              "       [1.76720291e-01],\n",
              "       [9.99874711e-01],\n",
              "       [1.56657994e-02],\n",
              "       [2.25646466e-01],\n",
              "       [8.38660240e-01],\n",
              "       [3.33947897e-01],\n",
              "       [2.30193734e-02],\n",
              "       [5.07825911e-01],\n",
              "       [5.27625620e-01],\n",
              "       [8.84280086e-01],\n",
              "       [5.10632992e-04],\n",
              "       [4.82254326e-02],\n",
              "       [2.05716447e-06],\n",
              "       [6.47674315e-05],\n",
              "       [9.97959137e-01],\n",
              "       [2.52455473e-04],\n",
              "       [3.18169594e-04],\n",
              "       [3.79240350e-06],\n",
              "       [2.43512839e-01],\n",
              "       [9.25521731e-01],\n",
              "       [4.80771065e-04],\n",
              "       [7.98182607e-01],\n",
              "       [1.70850967e-06],\n",
              "       [9.47771311e-01],\n",
              "       [2.28305316e-06],\n",
              "       [1.07970175e-06],\n",
              "       [7.88798161e-07],\n",
              "       [1.65283680e-04],\n",
              "       [1.00000000e+00],\n",
              "       [8.84521961e-01],\n",
              "       [6.66860506e-05],\n",
              "       [2.25387514e-02],\n",
              "       [3.46825182e-01],\n",
              "       [1.00000000e+00],\n",
              "       [1.52712762e-02],\n",
              "       [1.44652458e-05],\n",
              "       [1.93750858e-02],\n",
              "       [2.39816517e-01],\n",
              "       [9.99987721e-01],\n",
              "       [2.86937594e-01],\n",
              "       [1.13210887e-01],\n",
              "       [9.90280151e-01],\n",
              "       [9.28209305e-01],\n",
              "       [6.15793049e-01],\n",
              "       [4.21765447e-03],\n",
              "       [9.99733090e-01],\n",
              "       [2.04423070e-03],\n",
              "       [4.59024310e-03],\n",
              "       [2.53460144e-06],\n",
              "       [1.00000000e+00],\n",
              "       [9.99997735e-01],\n",
              "       [1.55136458e-05],\n",
              "       [2.80265808e-01],\n",
              "       [5.58981299e-03],\n",
              "       [4.04329002e-02],\n",
              "       [9.99436378e-01],\n",
              "       [1.20460987e-02],\n",
              "       [9.79600668e-01],\n",
              "       [3.97182912e-01],\n",
              "       [9.36622381e-01],\n",
              "       [9.99991238e-01],\n",
              "       [9.99994755e-01],\n",
              "       [2.59907283e-05],\n",
              "       [9.94739652e-01],\n",
              "       [9.99991536e-01],\n",
              "       [6.84859842e-05],\n",
              "       [5.83380461e-04],\n",
              "       [1.53162600e-05],\n",
              "       [1.36092305e-03],\n",
              "       [8.90561521e-01],\n",
              "       [9.99982238e-01],\n",
              "       [1.94321662e-01],\n",
              "       [2.30732560e-03],\n",
              "       [9.98358250e-01],\n",
              "       [8.77601027e-01],\n",
              "       [9.99089122e-01],\n",
              "       [9.95700717e-01],\n",
              "       [9.72217798e-01],\n",
              "       [9.91381943e-01],\n",
              "       [9.98264551e-01],\n",
              "       [2.21925974e-03],\n",
              "       [3.95689085e-06],\n",
              "       [1.11350200e-05],\n",
              "       [6.16282344e-01],\n",
              "       [8.08283687e-03],\n",
              "       [7.04145432e-03],\n",
              "       [8.50667655e-01],\n",
              "       [4.10318375e-04],\n",
              "       [9.99998450e-01],\n",
              "       [9.60991621e-01],\n",
              "       [9.99982357e-01],\n",
              "       [8.76116157e-01],\n",
              "       [1.64151192e-04],\n",
              "       [8.11663866e-02],\n",
              "       [8.74823630e-02],\n",
              "       [1.55996978e-02],\n",
              "       [1.78969800e-02],\n",
              "       [9.99979556e-01],\n",
              "       [9.64972258e-01],\n",
              "       [2.25664079e-02],\n",
              "       [2.23899782e-02],\n",
              "       [4.50074077e-02],\n",
              "       [3.61626148e-02],\n",
              "       [3.39630544e-01],\n",
              "       [9.99644876e-01],\n",
              "       [9.96430397e-01],\n",
              "       [1.14244223e-03],\n",
              "       [8.05823875e-05],\n",
              "       [6.25339150e-03],\n",
              "       [3.21630061e-01],\n",
              "       [4.88487567e-05],\n",
              "       [7.00187981e-02],\n",
              "       [9.93234694e-01],\n",
              "       [9.91196752e-01],\n",
              "       [1.50614977e-03],\n",
              "       [9.67759252e-01],\n",
              "       [9.24269676e-01],\n",
              "       [8.79380345e-01],\n",
              "       [7.10433483e-01],\n",
              "       [9.56619084e-01],\n",
              "       [9.98445749e-01],\n",
              "       [6.14704669e-01],\n",
              "       [3.03151309e-02],\n",
              "       [8.74072194e-01],\n",
              "       [9.98124123e-01],\n",
              "       [9.99705076e-01],\n",
              "       [2.04384327e-04],\n",
              "       [1.43599510e-03],\n",
              "       [5.78946412e-01],\n",
              "       [1.38216114e-06],\n",
              "       [1.72324628e-01],\n",
              "       [4.16232944e-01],\n",
              "       [7.25845456e-01],\n",
              "       [1.48540921e-05],\n",
              "       [1.05962958e-04],\n",
              "       [9.95612681e-01],\n",
              "       [1.00000000e+00],\n",
              "       [9.99362111e-01],\n",
              "       [6.32911921e-04],\n",
              "       [9.96339440e-01],\n",
              "       [9.88782644e-01],\n",
              "       [1.61078733e-05],\n",
              "       [8.29364240e-07],\n",
              "       [2.58980095e-02],\n",
              "       [9.17617679e-01],\n",
              "       [9.99558330e-01],\n",
              "       [8.02189112e-04],\n",
              "       [6.42894208e-01],\n",
              "       [3.84124428e-01],\n",
              "       [9.98827755e-01],\n",
              "       [6.83721900e-03],\n",
              "       [3.02569032e-01],\n",
              "       [1.61034763e-02],\n",
              "       [1.21327907e-01],\n",
              "       [9.99997914e-01],\n",
              "       [2.01739371e-02],\n",
              "       [9.99999642e-01],\n",
              "       [6.42065288e-06],\n",
              "       [9.98360753e-01],\n",
              "       [3.22552860e-01],\n",
              "       [1.84634328e-03],\n",
              "       [8.17788124e-01],\n",
              "       [9.14692879e-04],\n",
              "       [9.45512056e-01],\n",
              "       [3.68326902e-03],\n",
              "       [1.33183599e-03],\n",
              "       [2.57321099e-05],\n",
              "       [3.71757150e-03],\n",
              "       [9.57182586e-01],\n",
              "       [5.57537794e-01],\n",
              "       [5.01381110e-05],\n",
              "       [9.42257285e-01],\n",
              "       [6.77439570e-03],\n",
              "       [3.81550193e-02],\n",
              "       [2.14943290e-03],\n",
              "       [3.07164133e-01],\n",
              "       [1.85785166e-06],\n",
              "       [6.70552254e-04],\n",
              "       [1.07068926e-01],\n",
              "       [9.68119562e-01],\n",
              "       [2.47210264e-04],\n",
              "       [1.98081732e-02],\n",
              "       [6.00760758e-01],\n",
              "       [4.80979681e-04],\n",
              "       [9.97626901e-01],\n",
              "       [9.92335916e-01],\n",
              "       [2.64646551e-05],\n",
              "       [9.99899864e-01],\n",
              "       [6.18314844e-10],\n",
              "       [3.16798687e-04],\n",
              "       [9.99589086e-01],\n",
              "       [6.84348925e-06],\n",
              "       [9.99339819e-01],\n",
              "       [8.46467018e-01],\n",
              "       [2.63706446e-02],\n",
              "       [2.31226683e-02],\n",
              "       [2.35195458e-02],\n",
              "       [8.87089491e-01],\n",
              "       [9.99938190e-01],\n",
              "       [9.95193839e-01],\n",
              "       [4.90246415e-02],\n",
              "       [5.22678792e-02],\n",
              "       [8.42541456e-04],\n",
              "       [6.63480163e-03],\n",
              "       [8.75116587e-01],\n",
              "       [2.91017890e-02],\n",
              "       [1.52227014e-01],\n",
              "       [9.95276570e-01],\n",
              "       [9.70807672e-03],\n",
              "       [1.38575733e-02],\n",
              "       [2.71426097e-06],\n",
              "       [9.99770284e-01],\n",
              "       [9.63035822e-01],\n",
              "       [2.81466237e-06],\n",
              "       [1.25771850e-01],\n",
              "       [1.33818667e-05],\n",
              "       [9.99583364e-01],\n",
              "       [1.00000000e+00],\n",
              "       [4.37718034e-02],\n",
              "       [3.17585766e-02],\n",
              "       [1.23910183e-06],\n",
              "       [9.87527847e-01],\n",
              "       [9.98845577e-01],\n",
              "       [5.09514213e-02],\n",
              "       [9.97636080e-01],\n",
              "       [1.61598182e-05],\n",
              "       [1.42987665e-05],\n",
              "       [3.23346257e-03],\n",
              "       [9.99557853e-01],\n",
              "       [1.75842315e-01],\n",
              "       [1.35084987e-03],\n",
              "       [1.06351554e-01],\n",
              "       [1.43954158e-03],\n",
              "       [9.92013812e-01],\n",
              "       [9.11995769e-02],\n",
              "       [1.22912854e-01],\n",
              "       [2.29395419e-01],\n",
              "       [7.49617815e-04],\n",
              "       [9.85925972e-01],\n",
              "       [9.68962908e-04],\n",
              "       [9.12898779e-03],\n",
              "       [8.73649716e-01],\n",
              "       [1.40456377e-05],\n",
              "       [9.99982059e-01],\n",
              "       [2.12792695e-01],\n",
              "       [8.83888279e-05],\n",
              "       [8.66601404e-05],\n",
              "       [4.72336978e-06],\n",
              "       [3.04066181e-01],\n",
              "       [9.99990582e-01],\n",
              "       [9.51073050e-01],\n",
              "       [1.66773796e-04],\n",
              "       [6.93257809e-01],\n",
              "       [7.60266185e-03],\n",
              "       [1.31045014e-01],\n",
              "       [8.00517082e-01],\n",
              "       [9.99822974e-01],\n",
              "       [3.53603601e-01],\n",
              "       [2.07301080e-02],\n",
              "       [9.99996483e-01],\n",
              "       [7.77545793e-05],\n",
              "       [9.99996543e-01],\n",
              "       [1.00000000e+00],\n",
              "       [7.11677670e-01],\n",
              "       [9.37734842e-01],\n",
              "       [3.25760841e-02],\n",
              "       [9.99995589e-01],\n",
              "       [7.01827765e-01],\n",
              "       [1.17409229e-03],\n",
              "       [9.93132710e-01],\n",
              "       [1.41188413e-01],\n",
              "       [3.63892019e-02],\n",
              "       [1.45864487e-03],\n",
              "       [1.00000000e+00],\n",
              "       [9.11694588e-05],\n",
              "       [9.99924600e-01],\n",
              "       [9.35939752e-05],\n",
              "       [8.01321864e-03],\n",
              "       [9.99757171e-01],\n",
              "       [4.58210707e-04],\n",
              "       [9.99993563e-01],\n",
              "       [7.33011663e-02],\n",
              "       [5.65969527e-01],\n",
              "       [5.78051329e-01],\n",
              "       [1.13119185e-02],\n",
              "       [9.54828143e-01],\n",
              "       [1.00000000e+00],\n",
              "       [9.99588132e-01],\n",
              "       [6.73687339e-01],\n",
              "       [1.13006532e-01],\n",
              "       [9.67176616e-01],\n",
              "       [9.86970067e-01],\n",
              "       [1.31917000e-03],\n",
              "       [9.99869704e-01],\n",
              "       [5.15738070e-01],\n",
              "       [1.33275986e-04],\n",
              "       [2.77221203e-04],\n",
              "       [9.99995589e-01],\n",
              "       [1.03671849e-01],\n",
              "       [6.04026198e-01],\n",
              "       [9.99983549e-01],\n",
              "       [9.94625688e-01],\n",
              "       [7.41424024e-01],\n",
              "       [9.99993205e-01],\n",
              "       [9.60941613e-01],\n",
              "       [9.98885155e-01],\n",
              "       [9.78545427e-01],\n",
              "       [9.68969166e-01],\n",
              "       [9.73196626e-01],\n",
              "       [9.99531627e-01],\n",
              "       [9.99992311e-01],\n",
              "       [2.94417143e-04],\n",
              "       [4.62095704e-05],\n",
              "       [1.75186699e-06],\n",
              "       [8.37069750e-03],\n",
              "       [4.36047912e-02],\n",
              "       [9.76094723e-01],\n",
              "       [1.00436807e-03],\n",
              "       [1.15251351e-05],\n",
              "       [2.80871373e-05],\n",
              "       [9.99999762e-01],\n",
              "       [9.93998766e-01],\n",
              "       [1.80062950e-02],\n",
              "       [3.03361624e-01],\n",
              "       [2.62699723e-02],\n",
              "       [9.90202904e-01],\n",
              "       [6.37424946e-01],\n",
              "       [1.02203369e-01],\n",
              "       [4.25640643e-02],\n",
              "       [7.83933163e-01],\n",
              "       [9.99272108e-01],\n",
              "       [9.92560565e-01],\n",
              "       [1.57679024e-05],\n",
              "       [9.14931297e-04],\n",
              "       [9.98339295e-01],\n",
              "       [9.99997973e-01],\n",
              "       [5.44112921e-03],\n",
              "       [4.43182188e-07],\n",
              "       [9.99999285e-01],\n",
              "       [9.99142528e-01],\n",
              "       [7.98398256e-03],\n",
              "       [2.33024359e-03],\n",
              "       [1.35047168e-01],\n",
              "       [1.74731016e-04],\n",
              "       [9.52853327e-07],\n",
              "       [2.43309140e-03],\n",
              "       [1.07717514e-03],\n",
              "       [8.50269198e-03],\n",
              "       [5.82195818e-01],\n",
              "       [3.00410151e-01],\n",
              "       [1.42197609e-02],\n",
              "       [8.13531637e-01],\n",
              "       [8.23980689e-01],\n",
              "       [2.97372341e-02],\n",
              "       [2.96083868e-01],\n",
              "       [8.66270900e-01],\n",
              "       [9.99817431e-01],\n",
              "       [6.64100444e-05],\n",
              "       [9.99992728e-01],\n",
              "       [9.99994636e-01],\n",
              "       [5.95298409e-03],\n",
              "       [1.20955706e-03],\n",
              "       [9.99751151e-01],\n",
              "       [7.10336924e-01],\n",
              "       [7.38641322e-02],\n",
              "       [9.99170780e-01],\n",
              "       [2.57682586e-05],\n",
              "       [9.98639345e-01],\n",
              "       [1.11635327e-02],\n",
              "       [1.79848212e-05],\n",
              "       [9.84414935e-01],\n",
              "       [7.51847029e-01],\n",
              "       [6.09997339e-12],\n",
              "       [8.93430412e-01],\n",
              "       [2.56113708e-02],\n",
              "       [7.40284145e-01],\n",
              "       [9.99141693e-01],\n",
              "       [3.48822713e-01],\n",
              "       [9.73900259e-02],\n",
              "       [1.14756823e-03],\n",
              "       [8.57142513e-05],\n",
              "       [9.87762213e-01],\n",
              "       [9.45239663e-01],\n",
              "       [9.43262577e-01],\n",
              "       [1.06523037e-02],\n",
              "       [8.70319843e-01],\n",
              "       [9.99795318e-01],\n",
              "       [4.36234504e-01],\n",
              "       [9.02241468e-01],\n",
              "       [9.95374858e-01],\n",
              "       [9.98259544e-01],\n",
              "       [9.54041719e-01],\n",
              "       [6.11622870e-01],\n",
              "       [5.94091415e-03],\n",
              "       [3.66872549e-02],\n",
              "       [9.50690866e-01],\n",
              "       [9.03599575e-05],\n",
              "       [1.11536451e-06],\n",
              "       [9.95574832e-01],\n",
              "       [9.99996901e-01],\n",
              "       [1.30528510e-01],\n",
              "       [9.99966860e-01],\n",
              "       [8.65248799e-01],\n",
              "       [2.31156349e-02],\n",
              "       [9.99159813e-01],\n",
              "       [4.16400790e-01],\n",
              "       [3.82377685e-10],\n",
              "       [3.88508111e-01],\n",
              "       [1.21201643e-04],\n",
              "       [6.32184863e-01],\n",
              "       [9.99780595e-01],\n",
              "       [5.18862784e-01],\n",
              "       [2.93098969e-06],\n",
              "       [5.38576245e-02],\n",
              "       [1.09847188e-01],\n",
              "       [5.62293589e-01],\n",
              "       [1.45782815e-05],\n",
              "       [7.61491001e-01],\n",
              "       [6.78414404e-02],\n",
              "       [9.95709062e-01],\n",
              "       [3.28926146e-02],\n",
              "       [8.97538662e-03],\n",
              "       [5.06725550e-01],\n",
              "       [9.04976487e-01],\n",
              "       [1.42285228e-03],\n",
              "       [9.99997735e-01],\n",
              "       [9.99526262e-01],\n",
              "       [2.10175186e-01],\n",
              "       [9.97393608e-01],\n",
              "       [3.49339260e-08],\n",
              "       [9.85127568e-01],\n",
              "       [3.52800786e-01],\n",
              "       [9.97857392e-01],\n",
              "       [4.71964777e-02],\n",
              "       [6.97526157e-01],\n",
              "       [9.99983072e-01],\n",
              "       [1.92814469e-02],\n",
              "       [9.99973774e-01],\n",
              "       [5.16826212e-02]], dtype=float32)"
            ]
          },
          "metadata": {},
          "execution_count": 31
        }
      ]
    },
    {
      "cell_type": "code",
      "source": [
        "#Step-6: Set the threshold\n",
        "ypred= ypred>0.5\n",
        "#Step-7: Evaluation Matrix\n",
        "print(classification_report(ytest, ypred))"
      ],
      "metadata": {
        "colab": {
          "base_uri": "https://localhost:8080/"
        },
        "id": "seGGNNKlOxEZ",
        "outputId": "7452f3d9-0af2-4741-9ad7-10732e308855"
      },
      "execution_count": null,
      "outputs": [
        {
          "output_type": "stream",
          "name": "stdout",
          "text": [
            "              precision    recall  f1-score   support\n",
            "\n",
            "           0       0.82      0.89      0.85       293\n",
            "           1       0.88      0.81      0.84       289\n",
            "\n",
            "    accuracy                           0.85       582\n",
            "   macro avg       0.85      0.85      0.85       582\n",
            "weighted avg       0.85      0.85      0.85       582\n",
            "\n"
          ]
        }
      ]
    },
    {
      "cell_type": "markdown",
      "source": [
        "SELFFFFFFFF"
      ],
      "metadata": {
        "id": "zhoPScTnUo1S"
      }
    },
    {
      "cell_type": "code",
      "source": [
        "import nltk\n",
        "\n",
        "from nltk.tokenize import word_tokenize\n",
        "nltk.download('punkt')\n",
        "\n",
        "from nltk.corpus import stopwords\n",
        "nltk.download('stopwords')\n",
        "\n",
        "from nltk.stem import WordNetLemmatizer\n",
        "nltk.download('wordnet')"
      ],
      "metadata": {
        "colab": {
          "base_uri": "https://localhost:8080/"
        },
        "id": "9eroc_QrcTRx",
        "outputId": "0c84f6cc-6842-46f3-c5ed-9eacc7d50440"
      },
      "execution_count": null,
      "outputs": [
        {
          "output_type": "stream",
          "name": "stdout",
          "text": [
            "[nltk_data] Downloading package punkt to /root/nltk_data...\n",
            "[nltk_data]   Unzipping tokenizers/punkt.zip.\n",
            "[nltk_data] Downloading package stopwords to /root/nltk_data...\n",
            "[nltk_data]   Unzipping corpora/stopwords.zip.\n",
            "[nltk_data] Downloading package wordnet to /root/nltk_data...\n",
            "[nltk_data]   Unzipping corpora/wordnet.zip.\n"
          ]
        },
        {
          "output_type": "execute_result",
          "data": {
            "text/plain": [
              "True"
            ]
          },
          "metadata": {},
          "execution_count": 26
        }
      ]
    },
    {
      "cell_type": "code",
      "source": [
        "def cleantext(text):\n",
        "  token= word_tokenize(text.lower())\n",
        "  ftoken= [t for t in token if(t.isalpha())]\n",
        "  stop= stopwords.words('english')\n",
        "\n",
        "  ctoken= [t for t in ftoken if(t not in stop)]\n",
        "\n",
        "  lemma= WordNetLemmatizer()\n",
        "  ltoken= [lemma.lemmatize(t) for t in ctoken]\n",
        "\n",
        "  return ' '.join(ltoken)"
      ],
      "metadata": {
        "id": "BzKI_eOycYKN"
      },
      "execution_count": null,
      "outputs": []
    },
    {
      "cell_type": "code",
      "source": [
        "df['review'].head()"
      ],
      "metadata": {
        "colab": {
          "base_uri": "https://localhost:8080/"
        },
        "id": "pP-so-Y7ccwF",
        "outputId": "0729c390-1c67-4c70-b283-e09cf0cb510e"
      },
      "execution_count": null,
      "outputs": [
        {
          "output_type": "execute_result",
          "data": {
            "text/plain": [
              "0    how do films like mouse hunt get into theatres...\n",
              "1    some talented actresses are blessed with a dem...\n",
              "2    this has been an extraordinary year for austra...\n",
              "3    according to hollywood movies made in last few...\n",
              "4    my first press screening of 1998 and already i...\n",
              "Name: review, dtype: object"
            ]
          },
          "metadata": {},
          "execution_count": 28
        }
      ]
    },
    {
      "cell_type": "code",
      "source": [
        "df['review']= df['review'].apply(cleantext)"
      ],
      "metadata": {
        "id": "nszfvWXocgyG"
      },
      "execution_count": null,
      "outputs": []
    },
    {
      "cell_type": "code",
      "source": [
        "df.head()"
      ],
      "metadata": {
        "colab": {
          "base_uri": "https://localhost:8080/",
          "height": 206
        },
        "id": "o_Dj7PkbcoKl",
        "outputId": "317c7ae8-fa22-4ef4-fa94-8e05ea4fc016"
      },
      "execution_count": null,
      "outputs": [
        {
          "output_type": "execute_result",
          "data": {
            "text/plain": [
              "  label                                             review\n",
              "0   neg  film like mouse hunt get theatre law something...\n",
              "1   neg  talented actress blessed demonstrated wide act...\n",
              "2   pos  extraordinary year australian film shine scoop...\n",
              "3   pos  according hollywood movie made last decade lif...\n",
              "4   neg  first press screening already gotten prime can..."
            ],
            "text/html": [
              "\n",
              "  <div id=\"df-f9116786-0f11-4643-b7d0-9ecfe3bb6c3e\">\n",
              "    <div class=\"colab-df-container\">\n",
              "      <div>\n",
              "<style scoped>\n",
              "    .dataframe tbody tr th:only-of-type {\n",
              "        vertical-align: middle;\n",
              "    }\n",
              "\n",
              "    .dataframe tbody tr th {\n",
              "        vertical-align: top;\n",
              "    }\n",
              "\n",
              "    .dataframe thead th {\n",
              "        text-align: right;\n",
              "    }\n",
              "</style>\n",
              "<table border=\"1\" class=\"dataframe\">\n",
              "  <thead>\n",
              "    <tr style=\"text-align: right;\">\n",
              "      <th></th>\n",
              "      <th>label</th>\n",
              "      <th>review</th>\n",
              "    </tr>\n",
              "  </thead>\n",
              "  <tbody>\n",
              "    <tr>\n",
              "      <th>0</th>\n",
              "      <td>neg</td>\n",
              "      <td>film like mouse hunt get theatre law something...</td>\n",
              "    </tr>\n",
              "    <tr>\n",
              "      <th>1</th>\n",
              "      <td>neg</td>\n",
              "      <td>talented actress blessed demonstrated wide act...</td>\n",
              "    </tr>\n",
              "    <tr>\n",
              "      <th>2</th>\n",
              "      <td>pos</td>\n",
              "      <td>extraordinary year australian film shine scoop...</td>\n",
              "    </tr>\n",
              "    <tr>\n",
              "      <th>3</th>\n",
              "      <td>pos</td>\n",
              "      <td>according hollywood movie made last decade lif...</td>\n",
              "    </tr>\n",
              "    <tr>\n",
              "      <th>4</th>\n",
              "      <td>neg</td>\n",
              "      <td>first press screening already gotten prime can...</td>\n",
              "    </tr>\n",
              "  </tbody>\n",
              "</table>\n",
              "</div>\n",
              "      <button class=\"colab-df-convert\" onclick=\"convertToInteractive('df-f9116786-0f11-4643-b7d0-9ecfe3bb6c3e')\"\n",
              "              title=\"Convert this dataframe to an interactive table.\"\n",
              "              style=\"display:none;\">\n",
              "        \n",
              "  <svg xmlns=\"http://www.w3.org/2000/svg\" height=\"24px\"viewBox=\"0 0 24 24\"\n",
              "       width=\"24px\">\n",
              "    <path d=\"M0 0h24v24H0V0z\" fill=\"none\"/>\n",
              "    <path d=\"M18.56 5.44l.94 2.06.94-2.06 2.06-.94-2.06-.94-.94-2.06-.94 2.06-2.06.94zm-11 1L8.5 8.5l.94-2.06 2.06-.94-2.06-.94L8.5 2.5l-.94 2.06-2.06.94zm10 10l.94 2.06.94-2.06 2.06-.94-2.06-.94-.94-2.06-.94 2.06-2.06.94z\"/><path d=\"M17.41 7.96l-1.37-1.37c-.4-.4-.92-.59-1.43-.59-.52 0-1.04.2-1.43.59L10.3 9.45l-7.72 7.72c-.78.78-.78 2.05 0 2.83L4 21.41c.39.39.9.59 1.41.59.51 0 1.02-.2 1.41-.59l7.78-7.78 2.81-2.81c.8-.78.8-2.07 0-2.86zM5.41 20L4 18.59l7.72-7.72 1.47 1.35L5.41 20z\"/>\n",
              "  </svg>\n",
              "      </button>\n",
              "      \n",
              "  <style>\n",
              "    .colab-df-container {\n",
              "      display:flex;\n",
              "      flex-wrap:wrap;\n",
              "      gap: 12px;\n",
              "    }\n",
              "\n",
              "    .colab-df-convert {\n",
              "      background-color: #E8F0FE;\n",
              "      border: none;\n",
              "      border-radius: 50%;\n",
              "      cursor: pointer;\n",
              "      display: none;\n",
              "      fill: #1967D2;\n",
              "      height: 32px;\n",
              "      padding: 0 0 0 0;\n",
              "      width: 32px;\n",
              "    }\n",
              "\n",
              "    .colab-df-convert:hover {\n",
              "      background-color: #E2EBFA;\n",
              "      box-shadow: 0px 1px 2px rgba(60, 64, 67, 0.3), 0px 1px 3px 1px rgba(60, 64, 67, 0.15);\n",
              "      fill: #174EA6;\n",
              "    }\n",
              "\n",
              "    [theme=dark] .colab-df-convert {\n",
              "      background-color: #3B4455;\n",
              "      fill: #D2E3FC;\n",
              "    }\n",
              "\n",
              "    [theme=dark] .colab-df-convert:hover {\n",
              "      background-color: #434B5C;\n",
              "      box-shadow: 0px 1px 3px 1px rgba(0, 0, 0, 0.15);\n",
              "      filter: drop-shadow(0px 1px 2px rgba(0, 0, 0, 0.3));\n",
              "      fill: #FFFFFF;\n",
              "    }\n",
              "  </style>\n",
              "\n",
              "      <script>\n",
              "        const buttonEl =\n",
              "          document.querySelector('#df-f9116786-0f11-4643-b7d0-9ecfe3bb6c3e button.colab-df-convert');\n",
              "        buttonEl.style.display =\n",
              "          google.colab.kernel.accessAllowed ? 'block' : 'none';\n",
              "\n",
              "        async function convertToInteractive(key) {\n",
              "          const element = document.querySelector('#df-f9116786-0f11-4643-b7d0-9ecfe3bb6c3e');\n",
              "          const dataTable =\n",
              "            await google.colab.kernel.invokeFunction('convertToInteractive',\n",
              "                                                     [key], {});\n",
              "          if (!dataTable) return;\n",
              "\n",
              "          const docLinkHtml = 'Like what you see? Visit the ' +\n",
              "            '<a target=\"_blank\" href=https://colab.research.google.com/notebooks/data_table.ipynb>data table notebook</a>'\n",
              "            + ' to learn more about interactive tables.';\n",
              "          element.innerHTML = '';\n",
              "          dataTable['output_type'] = 'display_data';\n",
              "          await google.colab.output.renderOutput(dataTable, element);\n",
              "          const docLink = document.createElement('div');\n",
              "          docLink.innerHTML = docLinkHtml;\n",
              "          element.appendChild(docLink);\n",
              "        }\n",
              "      </script>\n",
              "    </div>\n",
              "  </div>\n",
              "  "
            ]
          },
          "metadata": {},
          "execution_count": 30
        }
      ]
    },
    {
      "cell_type": "code",
      "source": [
        "\n",
        "cv= CountVectorizer()\n",
        "X= cv.fit_transform(X).toarray()"
      ],
      "metadata": {
        "id": "eMMS2aemc-fS"
      },
      "execution_count": null,
      "outputs": []
    },
    {
      "cell_type": "code",
      "source": [],
      "metadata": {
        "id": "IqtrYX-3dDN8"
      },
      "execution_count": null,
      "outputs": []
    },
    {
      "cell_type": "code",
      "source": [
        "def mymodel(model):\n",
        "  model.fit(Xtrain, ytrain)\n",
        "  ypred= model.predict(Xtest)\n",
        "  print(classification_report(ytest, ypred))\n",
        "  return model"
      ],
      "metadata": {
        "id": "8j4sIZoAdIlJ"
      },
      "execution_count": null,
      "outputs": []
    },
    {
      "cell_type": "code",
      "source": [
        "lr= mymodel(LogisticRegression())"
      ],
      "metadata": {
        "colab": {
          "base_uri": "https://localhost:8080/"
        },
        "id": "nje_ewfFdKrI",
        "outputId": "2ef3c2f9-643e-404c-b79d-82dc4e29f4f6"
      },
      "execution_count": null,
      "outputs": [
        {
          "output_type": "stream",
          "name": "stdout",
          "text": [
            "              precision    recall  f1-score   support\n",
            "\n",
            "         neg       0.79      0.87      0.83       293\n",
            "         pos       0.85      0.77      0.81       289\n",
            "\n",
            "    accuracy                           0.82       582\n",
            "   macro avg       0.82      0.82      0.82       582\n",
            "weighted avg       0.82      0.82      0.82       582\n",
            "\n"
          ]
        }
      ]
    },
    {
      "cell_type": "code",
      "source": [
        "svm= mymodel(LinearSVC())"
      ],
      "metadata": {
        "colab": {
          "base_uri": "https://localhost:8080/"
        },
        "id": "4wrzDgUedMkt",
        "outputId": "d720b44a-9c4a-4b2c-98af-4aa6f864589d"
      },
      "execution_count": null,
      "outputs": [
        {
          "output_type": "stream",
          "name": "stdout",
          "text": [
            "              precision    recall  f1-score   support\n",
            "\n",
            "         neg       0.79      0.85      0.82       293\n",
            "         pos       0.83      0.76      0.80       289\n",
            "\n",
            "    accuracy                           0.81       582\n",
            "   macro avg       0.81      0.81      0.81       582\n",
            "weighted avg       0.81      0.81      0.81       582\n",
            "\n"
          ]
        }
      ]
    },
    {
      "cell_type": "code",
      "source": [
        "nb= mymodel(GaussianNB())"
      ],
      "metadata": {
        "colab": {
          "base_uri": "https://localhost:8080/"
        },
        "id": "DBM92he_dOUJ",
        "outputId": "686cfb94-408f-4d96-c0ad-20718775ecda"
      },
      "execution_count": null,
      "outputs": [
        {
          "output_type": "stream",
          "name": "stdout",
          "text": [
            "              precision    recall  f1-score   support\n",
            "\n",
            "         neg       0.70      0.62      0.66       293\n",
            "         pos       0.65      0.73      0.69       289\n",
            "\n",
            "    accuracy                           0.67       582\n",
            "   macro avg       0.68      0.67      0.67       582\n",
            "weighted avg       0.68      0.67      0.67       582\n",
            "\n"
          ]
        }
      ]
    },
    {
      "cell_type": "code",
      "source": [
        "pos1= 'The best I have come across'\n",
        "neg1='What a waste of time'\n",
        "neg2='Do not recommend. Acting could have been better'\n",
        "pos2='Must watch. Great screenplay'\n",
        "neu='It was unexpected.'"
      ],
      "metadata": {
        "id": "ZaKewoRIdnvI"
      },
      "execution_count": null,
      "outputs": []
    },
    {
      "cell_type": "code",
      "source": [
        "def checksentiment(text):\n",
        "  text= cleantext(text)\n",
        "  newx= cv.transform([text]).toarray()\n",
        "  pred= lr.predict(newx)[0]\n",
        "  return pred"
      ],
      "metadata": {
        "id": "eItTOMKDfEIr"
      },
      "execution_count": null,
      "outputs": []
    },
    {
      "cell_type": "code",
      "source": [
        "df.head()"
      ],
      "metadata": {
        "colab": {
          "base_uri": "https://localhost:8080/",
          "height": 206
        },
        "id": "--0sT6k9e1jR",
        "outputId": "bf5add84-c503-473d-9083-f2f0d3fe608c"
      },
      "execution_count": null,
      "outputs": [
        {
          "output_type": "execute_result",
          "data": {
            "text/plain": [
              "  label                                             review\n",
              "0   neg  film like mouse hunt get theatre law something...\n",
              "1   neg  talented actress blessed demonstrated wide act...\n",
              "2   pos  extraordinary year australian film shine scoop...\n",
              "3   pos  according hollywood movie made last decade lif...\n",
              "4   neg  first press screening already gotten prime can..."
            ],
            "text/html": [
              "\n",
              "  <div id=\"df-71f08e11-7f16-4670-96d3-bf5f7c711dd2\">\n",
              "    <div class=\"colab-df-container\">\n",
              "      <div>\n",
              "<style scoped>\n",
              "    .dataframe tbody tr th:only-of-type {\n",
              "        vertical-align: middle;\n",
              "    }\n",
              "\n",
              "    .dataframe tbody tr th {\n",
              "        vertical-align: top;\n",
              "    }\n",
              "\n",
              "    .dataframe thead th {\n",
              "        text-align: right;\n",
              "    }\n",
              "</style>\n",
              "<table border=\"1\" class=\"dataframe\">\n",
              "  <thead>\n",
              "    <tr style=\"text-align: right;\">\n",
              "      <th></th>\n",
              "      <th>label</th>\n",
              "      <th>review</th>\n",
              "    </tr>\n",
              "  </thead>\n",
              "  <tbody>\n",
              "    <tr>\n",
              "      <th>0</th>\n",
              "      <td>neg</td>\n",
              "      <td>film like mouse hunt get theatre law something...</td>\n",
              "    </tr>\n",
              "    <tr>\n",
              "      <th>1</th>\n",
              "      <td>neg</td>\n",
              "      <td>talented actress blessed demonstrated wide act...</td>\n",
              "    </tr>\n",
              "    <tr>\n",
              "      <th>2</th>\n",
              "      <td>pos</td>\n",
              "      <td>extraordinary year australian film shine scoop...</td>\n",
              "    </tr>\n",
              "    <tr>\n",
              "      <th>3</th>\n",
              "      <td>pos</td>\n",
              "      <td>according hollywood movie made last decade lif...</td>\n",
              "    </tr>\n",
              "    <tr>\n",
              "      <th>4</th>\n",
              "      <td>neg</td>\n",
              "      <td>first press screening already gotten prime can...</td>\n",
              "    </tr>\n",
              "  </tbody>\n",
              "</table>\n",
              "</div>\n",
              "      <button class=\"colab-df-convert\" onclick=\"convertToInteractive('df-71f08e11-7f16-4670-96d3-bf5f7c711dd2')\"\n",
              "              title=\"Convert this dataframe to an interactive table.\"\n",
              "              style=\"display:none;\">\n",
              "        \n",
              "  <svg xmlns=\"http://www.w3.org/2000/svg\" height=\"24px\"viewBox=\"0 0 24 24\"\n",
              "       width=\"24px\">\n",
              "    <path d=\"M0 0h24v24H0V0z\" fill=\"none\"/>\n",
              "    <path d=\"M18.56 5.44l.94 2.06.94-2.06 2.06-.94-2.06-.94-.94-2.06-.94 2.06-2.06.94zm-11 1L8.5 8.5l.94-2.06 2.06-.94-2.06-.94L8.5 2.5l-.94 2.06-2.06.94zm10 10l.94 2.06.94-2.06 2.06-.94-2.06-.94-.94-2.06-.94 2.06-2.06.94z\"/><path d=\"M17.41 7.96l-1.37-1.37c-.4-.4-.92-.59-1.43-.59-.52 0-1.04.2-1.43.59L10.3 9.45l-7.72 7.72c-.78.78-.78 2.05 0 2.83L4 21.41c.39.39.9.59 1.41.59.51 0 1.02-.2 1.41-.59l7.78-7.78 2.81-2.81c.8-.78.8-2.07 0-2.86zM5.41 20L4 18.59l7.72-7.72 1.47 1.35L5.41 20z\"/>\n",
              "  </svg>\n",
              "      </button>\n",
              "      \n",
              "  <style>\n",
              "    .colab-df-container {\n",
              "      display:flex;\n",
              "      flex-wrap:wrap;\n",
              "      gap: 12px;\n",
              "    }\n",
              "\n",
              "    .colab-df-convert {\n",
              "      background-color: #E8F0FE;\n",
              "      border: none;\n",
              "      border-radius: 50%;\n",
              "      cursor: pointer;\n",
              "      display: none;\n",
              "      fill: #1967D2;\n",
              "      height: 32px;\n",
              "      padding: 0 0 0 0;\n",
              "      width: 32px;\n",
              "    }\n",
              "\n",
              "    .colab-df-convert:hover {\n",
              "      background-color: #E2EBFA;\n",
              "      box-shadow: 0px 1px 2px rgba(60, 64, 67, 0.3), 0px 1px 3px 1px rgba(60, 64, 67, 0.15);\n",
              "      fill: #174EA6;\n",
              "    }\n",
              "\n",
              "    [theme=dark] .colab-df-convert {\n",
              "      background-color: #3B4455;\n",
              "      fill: #D2E3FC;\n",
              "    }\n",
              "\n",
              "    [theme=dark] .colab-df-convert:hover {\n",
              "      background-color: #434B5C;\n",
              "      box-shadow: 0px 1px 3px 1px rgba(0, 0, 0, 0.15);\n",
              "      filter: drop-shadow(0px 1px 2px rgba(0, 0, 0, 0.3));\n",
              "      fill: #FFFFFF;\n",
              "    }\n",
              "  </style>\n",
              "\n",
              "      <script>\n",
              "        const buttonEl =\n",
              "          document.querySelector('#df-71f08e11-7f16-4670-96d3-bf5f7c711dd2 button.colab-df-convert');\n",
              "        buttonEl.style.display =\n",
              "          google.colab.kernel.accessAllowed ? 'block' : 'none';\n",
              "\n",
              "        async function convertToInteractive(key) {\n",
              "          const element = document.querySelector('#df-71f08e11-7f16-4670-96d3-bf5f7c711dd2');\n",
              "          const dataTable =\n",
              "            await google.colab.kernel.invokeFunction('convertToInteractive',\n",
              "                                                     [key], {});\n",
              "          if (!dataTable) return;\n",
              "\n",
              "          const docLinkHtml = 'Like what you see? Visit the ' +\n",
              "            '<a target=\"_blank\" href=https://colab.research.google.com/notebooks/data_table.ipynb>data table notebook</a>'\n",
              "            + ' to learn more about interactive tables.';\n",
              "          element.innerHTML = '';\n",
              "          dataTable['output_type'] = 'display_data';\n",
              "          await google.colab.output.renderOutput(dataTable, element);\n",
              "          const docLink = document.createElement('div');\n",
              "          docLink.innerHTML = docLinkHtml;\n",
              "          element.appendChild(docLink);\n",
              "        }\n",
              "      </script>\n",
              "    </div>\n",
              "  </div>\n",
              "  "
            ]
          },
          "metadata": {},
          "execution_count": 53
        }
      ]
    },
    {
      "cell_type": "code",
      "source": [],
      "metadata": {
        "id": "BpXqxwLZfLg9"
      },
      "execution_count": null,
      "outputs": []
    }
  ]
}